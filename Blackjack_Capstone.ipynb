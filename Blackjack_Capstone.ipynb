{
  "nbformat": 4,
  "nbformat_minor": 0,
  "metadata": {
    "colab": {
      "provenance": [],
      "authorship_tag": "ABX9TyMQ035MUOqEGmh7InMo66oK",
      "include_colab_link": true
    },
    "kernelspec": {
      "name": "python3",
      "display_name": "Python 3"
    },
    "language_info": {
      "name": "python"
    }
  },
  "cells": [
    {
      "cell_type": "markdown",
      "metadata": {
        "id": "view-in-github",
        "colab_type": "text"
      },
      "source": [
        "<a href=\"https://colab.research.google.com/github/Sejalkose/Blackjack_cap/blob/main/Blackjack_Capstone.ipynb\" target=\"_parent\"><img src=\"https://colab.research.google.com/assets/colab-badge.svg\" alt=\"Open In Colab\"/></a>"
      ]
    },
    {
      "cell_type": "code",
      "source": [
        "import random\n",
        "\n",
        "cards = [11, 2, 3, 4, 5, 6, 7, 8, 9, 10, 10, 10, 10]\n",
        "\n",
        "play = (input(\"Do you want to play a game of Blackjack? Type 'y' or 'n': \"))\n",
        "if play == 'y':\n",
        "  print('''\n",
        "  .------.            _     _            _    _            _\n",
        "  |A_  _ |.          | |   | |          | |  (_)          | |\n",
        "  |( \\/ ).-----.     | |__ | | __ _  ___| | ___  __ _  ___| | __\n",
        "  | \\  /|K /\\  |     | '_ \\| |/ _' |/ __| |/ / |/ _' |/ __| |/ /\n",
        "  |  \\/ | /  \\ |     | |_) | | (_| | (__|   <| | (_| | (__|   <\n",
        "  '-----| \\  / |     |_.__/|_|\\__,_|\\___|_|\\_\\ |\\__,_|\\___|_|\\_\\\n",
        "        |  \\/ K|                            _/ |\n",
        "        '------'                           |__/\n",
        "\n",
        "  ''')\n",
        "\n",
        "# card picked randomly\n",
        "def deal_card():\n",
        "  cards = [11, 2, 3, 4, 5, 6, 7, 8, 9, 10, 10, 10, 10]\n",
        "  card = random.choice(cards)\n",
        "  return card\n",
        "\n",
        "# calculation of score ie sum of cards picked\n",
        "def calculate_score(cards):\n",
        "    if sum(cards) == 21 and len(cards) == 2:\n",
        "        return 0\n",
        "    if 11 in cards and sum(cards) > 21:\n",
        "        cards[cards.index(11)] = 1\n",
        "    return sum(cards)\n",
        "\n",
        "# compairing the two\n",
        "def compare(u, c):\n",
        "    if u == c: return \"Draw\"\n",
        "    if c == 0: return \"Lose, computer has Blackjack\"\n",
        "    if u == 0: return \"Win with a Blackjack\"\n",
        "    if u > 21: return \"You went over. You lose\"\n",
        "    if c > 21: return \"Computer went over. You win\"\n",
        "    return \"You win\" if u > c else \"You lose\"\n",
        "\n",
        "#main fn, has 2 deal_cards as range = 2\n",
        "def play_game():\n",
        "    user = [deal_card(), deal_card()]\n",
        "    comp = [deal_card(), deal_card()]\n",
        "\n",
        "    while (score := calculate_score(user)) < 21:  # score variale has calculate_score value\n",
        "        print(f\"Your cards: {user}, score: {score}\")\n",
        "        print(f\"Computer's first card: {comp[0]}\") #will only show 1st index value of comp\n",
        "        if input(\"Type 'y' to draw again, 'n' to pass: \") == 'y':\n",
        "            user.append(deal_card())\n",
        "        else:\n",
        "            break\n",
        "\n",
        "    while calculate_score(comp) < 17:\n",
        "        comp.append(deal_card())\n",
        "\n",
        "    print(f\"\\nYour final hand: {user}, score: {calculate_score(user)}\")\n",
        "    print(f\"Computer's final hand: {comp}, score: {calculate_score(comp)}\")\n",
        "    print(compare(calculate_score(user), calculate_score(comp)))\n",
        "\n",
        "play_game()"
      ],
      "metadata": {
        "colab": {
          "base_uri": "https://localhost:8080/"
        },
        "id": "BwZcelMXfk6J",
        "outputId": "312ec6da-ba81-4e79-86fe-3080aaa8dc40"
      },
      "execution_count": 10,
      "outputs": [
        {
          "output_type": "stream",
          "name": "stdout",
          "text": [
            "Do you want to play a game of Blackjack? Type 'y' or 'n': y\n",
            "\n",
            "  .------.            _     _            _    _            _    \n",
            "  |A_  _ |.          | |   | |          | |  (_)          | |   \n",
            "  |( \\/ ).-----.     | |__ | | __ _  ___| | ___  __ _  ___| | __\n",
            "  | \\  /|K /\\  |     | '_ \\| |/ _' |/ __| |/ / |/ _' |/ __| |/ /\n",
            "  |  \\/ | /  \\ |     | |_) | | (_| | (__|   <| | (_| | (__|   < \n",
            "  '-----| \\  / |     |_.__/|_|\\__,_|\\___|_|\\_\\ |\\__,_|\\___|_|\\_        |  \\/ K|                            _/ |                \n",
            "        '------'                           |__/    \n",
            "  \n",
            "  \n",
            "Your cards: [2, 4], score: 6\n",
            "Computer's first card: 2\n",
            "Type 'y' to draw again, 'n' to pass: y\n",
            "Your cards: [2, 4, 7], score: 13\n",
            "Computer's first card: 2\n",
            "Type 'y' to draw again, 'n' to pass: y\n",
            "Your cards: [2, 4, 7, 7], score: 20\n",
            "Computer's first card: 2\n",
            "Type 'y' to draw again, 'n' to pass: n\n",
            "\n",
            "Your final hand: [2, 4, 7, 7], score: 20\n",
            "Computer's final hand: [2, 8, 10], score: 20\n",
            "Draw\n"
          ]
        }
      ]
    }
  ]
}